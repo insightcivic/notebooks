{
 "cells": [
  {
   "cell_type": "markdown",
   "id": "0493718a",
   "metadata": {},
   "source": [
    "# Python for Data Analysis"
   ]
  },
  {
   "cell_type": "markdown",
   "id": "81f16c91",
   "metadata": {},
   "source": [
    "## Chatper 3 Python Data Structures"
   ]
  },
  {
   "cell_type": "markdown",
   "id": "34ab079f",
   "metadata": {},
   "source": [
    "### Lists"
   ]
  },
  {
   "cell_type": "code",
   "execution_count": 4,
   "id": "df8d14e3",
   "metadata": {},
   "outputs": [
    {
     "name": "stdout",
     "output_type": "stream",
     "text": [
      "['Foo', 'peekaboo', 'baz']\n"
     ]
    }
   ],
   "source": [
    "a_list = [2,3,5,None]\n",
    "tup = (\"Foo\", \"Bar\", \"baz\")\n",
    "\n",
    "# create a list from a tuple\n",
    "b_list = list(tup)\n",
    "\n",
    "b_list\n",
    "b_list[1] = \"peekaboo\"\n",
    "print(b_list)"
   ]
  },
  {
   "cell_type": "code",
   "execution_count": 6,
   "id": "4e8a7c92",
   "metadata": {},
   "outputs": [
    {
     "name": "stdout",
     "output_type": "stream",
     "text": [
      "range(0, 10)\n"
     ]
    },
    {
     "data": {
      "text/plain": [
       "[0, 1, 2, 3, 4, 5, 6, 7, 8, 9]"
      ]
     },
     "execution_count": 6,
     "metadata": {},
     "output_type": "execute_result"
    }
   ],
   "source": [
    "gen = range(10)\n",
    "print(gen)\n",
    "list(gen)"
   ]
  },
  {
   "cell_type": "markdown",
   "id": "808aef11",
   "metadata": {},
   "source": [
    "### List Actions"
   ]
  },
  {
   "cell_type": "code",
   "execution_count": 23,
   "id": "8b3fcde8",
   "metadata": {},
   "outputs": [
    {
     "name": "stdout",
     "output_type": "stream",
     "text": [
      "[1, 2, 'Manny', 'Last']\n",
      "[1, 2, 'Manny', 'Last', 'Last appended']\n",
      "[0, 1, 2, 'Manny', 'Last', 'Last appended']\n",
      "[1, 2, 'Manny', 'Last', 'Last appended']\n",
      "[1, 'Manny', 'Last', 'Last appended']\n",
      "[1, 'Manny', 'Last', 'Last appended', 'Other', 'list', 'content']\n",
      "['Aardvark', 'Elephant', 'Rhino', 'Zebra']\n"
     ]
    }
   ],
   "source": [
    "my_list = [1, 2, \"Manny\", \"Last\"]\n",
    "print(my_list)\n",
    "\n",
    "# append adds to the end of the list\n",
    "my_list.append(\"Last appended\")\n",
    "print(my_list)\n",
    "\n",
    "# insert adds an element to a specific location in the list\n",
    "my_list.insert(0,0)\n",
    "print(my_list)\n",
    "\n",
    "# inverse of insert is pop, which removes and retuns an element at a particular index\n",
    "my_list.pop(0)\n",
    "print(my_list)\n",
    "\n",
    "# remove removes by value, finds the first instance of it and removes it\n",
    "my_list.remove(2)\n",
    "print(my_list)\n",
    "\n",
    "# find if a list contains a value\n",
    "\"Manny\" in my_list\n",
    "# returns True\n",
    "\n",
    "# can also use the negation\n",
    "\"Manny\" not in my_list\n",
    "#Returns False\n",
    "\n",
    "my_otherlist = [\"Other\", \"list\", \"content\"]\n",
    "new_list = my_list + my_otherlist\n",
    "print(new_list)\n",
    "\n",
    "sorted_list = [\"Elephant\", \"Zebra\", \"Aardvark\", \"Rhino\"]\n",
    "sorted_list.sort()\n",
    "print(sorted_list)\n"
   ]
  },
  {
   "cell_type": "markdown",
   "id": "593b77a9",
   "metadata": {},
   "source": [
    "### List Slicing"
   ]
  },
  {
   "cell_type": "code",
   "execution_count": 35,
   "id": "fa8a12e2",
   "metadata": {},
   "outputs": [
    {
     "name": "stdout",
     "output_type": "stream",
     "text": [
      "[0, 1, 2, 3, 4, 5, 6]\n",
      "[0]\n",
      "[0, 1, 2, 3, 4, 5, 6]\n",
      "[0, 2, 4, 6]\n",
      "[7, 6, 5, 4, 3, 2, 1, 0]\n"
     ]
    }
   ],
   "source": [
    "a_list = [0,1,2,3,4,5,6,7]\n",
    "# [start: stop]\n",
    "print(a_list[0:7])\n",
    "\n",
    "print(a_list[0:1])\n",
    "\n",
    "print(a_list[:-1])\n",
    "\n",
    "# every other element\n",
    "print(a_list[::2])\n",
    "\n",
    "# reversing a string or tuple\n",
    "print(a_list[::-1])"
   ]
  },
  {
   "cell_type": "markdown",
   "id": "0d3831c6",
   "metadata": {},
   "source": [
    "## Dictionaries"
   ]
  },
  {
   "cell_type": "code",
   "execution_count": 36,
   "id": "e734dadd",
   "metadata": {},
   "outputs": [
    {
     "name": "stdout",
     "output_type": "stream",
     "text": [
      "{'a': 1, 'b': 2, 'c': 3}\n",
      "1\n",
      "{'a': 1, 'c': 3}\n",
      "1\n",
      "{'c': 3}\n"
     ]
    }
   ],
   "source": [
    "empty_dict = {}\n",
    "\n",
    "\n",
    "a_dict = {\"a\" : 1, \"b\": 2, \"c\":3}\n",
    "print(a_dict)\n",
    "print(a_dict[\"a\"])\n",
    "\n",
    "\"r\" in a_dict #false\n",
    "\n",
    "# deleting an element from the dictionary\n",
    "\n",
    "del a_dict['b']\n",
    "print(a_dict)\n",
    "\n",
    "# pop also deletes but returns the value before deleting (value can be stored in a variable)\n",
    "a = a_dict.pop('a')\n",
    "print(a)\n",
    "print(a_dict)"
   ]
  }
 ],
 "metadata": {
  "kernelspec": {
   "display_name": "Python 3 (ipykernel)",
   "language": "python",
   "name": "python3"
  },
  "language_info": {
   "codemirror_mode": {
    "name": "ipython",
    "version": 3
   },
   "file_extension": ".py",
   "mimetype": "text/x-python",
   "name": "python",
   "nbconvert_exporter": "python",
   "pygments_lexer": "ipython3",
   "version": "3.10.11"
  }
 },
 "nbformat": 4,
 "nbformat_minor": 5
}
